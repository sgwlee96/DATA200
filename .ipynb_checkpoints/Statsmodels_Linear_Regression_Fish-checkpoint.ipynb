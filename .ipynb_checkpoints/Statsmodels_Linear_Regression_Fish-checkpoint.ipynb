{
  "nbformat": 4,
  "nbformat_minor": 0,
  "metadata": {
    "colab": {
      "provenance": []
    },
    "kernelspec": {
      "name": "python3",
      "display_name": "Python 3"
    },
    "language_info": {
      "name": "python"
    }
  },
  "cells": [
    {
      "cell_type": "code",
      "execution_count": null,
      "metadata": {
        "id": "ifYoOw9DY7J9",
        "collapsed": true
      },
      "outputs": [],
      "source": [
        "import pandas as pd\n",
        "df = pd.read_csv('Fish.csv')\n",
        "df.describe()\n"
      ]
    },
    {
      "cell_type": "code",
      "source": [
        "import matplotlib.pyplot as plt\n",
        "import seaborn as sns\n",
        "\n",
        "sns.scatterplot(data=df, x='Length1', y='Weight')\n",
        "plt.xlabel('Length')\n",
        "plt.ylabel('Weight')\n",
        "plt.show()"
      ],
      "metadata": {
        "id": "tJXa214jZAc4"
      },
      "execution_count": null,
      "outputs": []
    },
    {
      "cell_type": "code",
      "source": [
        "import statsmodels.formula.api as smf\n",
        "\n",
        "model = smf.ols('Weight~Length1', data=df).fit()\n",
        "print(model.summary())"
      ],
      "metadata": {
        "id": "SA6FStYuhZub"
      },
      "execution_count": null,
      "outputs": []
    },
    {
      "cell_type": "code",
      "source": [
        "plt.scatter(df['Length1'], df['Weight'])\n",
        "plt.plot(df['Length1'], model.predict(), color='red')\n",
        "plt.xlabel('Length1')\n",
        "plt.ylabel('Weight')\n",
        "plt.show()\n",
        "\n",
        "\n"
      ],
      "metadata": {
        "id": "e5Uc4yHyh18K"
      },
      "execution_count": null,
      "outputs": []
    },
    {
      "cell_type": "code",
      "source": [],
      "metadata": {
        "id": "pbSudynqiEDH"
      },
      "execution_count": null,
      "outputs": []
    }
  ]
}