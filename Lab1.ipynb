{
 "cells": [
  {
   "cell_type": "code",
   "execution_count": 2,
   "id": "2812459c-b7d3-454b-9720-74803368c214",
   "metadata": {
    "tags": []
   },
   "outputs": [],
   "source": [
    "import pandas as pd\n",
    "import numpy as np\n",
    "import matplotlib.pyplot as plt"
   ]
  },
  {
   "cell_type": "code",
   "execution_count": 3,
   "id": "fea2d7f7-eb04-4cca-acf8-b12faf89c515",
   "metadata": {
    "tags": []
   },
   "outputs": [],
   "source": [
    "df = pd.read_csv('toy_dataset.csv')"
   ]
  },
  {
   "cell_type": "code",
   "execution_count": 4,
   "id": "f7b150aa-1e84-4b93-a5db-31e6b4ae427b",
   "metadata": {
    "tags": []
   },
   "outputs": [
    {
     "data": {
      "text/html": [
       "<div>\n",
       "<style scoped>\n",
       "    .dataframe tbody tr th:only-of-type {\n",
       "        vertical-align: middle;\n",
       "    }\n",
       "\n",
       "    .dataframe tbody tr th {\n",
       "        vertical-align: top;\n",
       "    }\n",
       "\n",
       "    .dataframe thead th {\n",
       "        text-align: right;\n",
       "    }\n",
       "</style>\n",
       "<table border=\"1\" class=\"dataframe\">\n",
       "  <thead>\n",
       "    <tr style=\"text-align: right;\">\n",
       "      <th></th>\n",
       "      <th>Number</th>\n",
       "      <th>City</th>\n",
       "      <th>Gender</th>\n",
       "      <th>Age</th>\n",
       "      <th>Income</th>\n",
       "      <th>Illness</th>\n",
       "    </tr>\n",
       "  </thead>\n",
       "  <tbody>\n",
       "    <tr>\n",
       "      <th>0</th>\n",
       "      <td>1</td>\n",
       "      <td>Dallas</td>\n",
       "      <td>Male</td>\n",
       "      <td>41</td>\n",
       "      <td>40367.0</td>\n",
       "      <td>No</td>\n",
       "    </tr>\n",
       "    <tr>\n",
       "      <th>1</th>\n",
       "      <td>2</td>\n",
       "      <td>Dallas</td>\n",
       "      <td>Male</td>\n",
       "      <td>54</td>\n",
       "      <td>45084.0</td>\n",
       "      <td>No</td>\n",
       "    </tr>\n",
       "    <tr>\n",
       "      <th>2</th>\n",
       "      <td>3</td>\n",
       "      <td>Dallas</td>\n",
       "      <td>Male</td>\n",
       "      <td>42</td>\n",
       "      <td>52483.0</td>\n",
       "      <td>No</td>\n",
       "    </tr>\n",
       "    <tr>\n",
       "      <th>3</th>\n",
       "      <td>4</td>\n",
       "      <td>Dallas</td>\n",
       "      <td>Male</td>\n",
       "      <td>40</td>\n",
       "      <td>40941.0</td>\n",
       "      <td>No</td>\n",
       "    </tr>\n",
       "    <tr>\n",
       "      <th>4</th>\n",
       "      <td>5</td>\n",
       "      <td>Dallas</td>\n",
       "      <td>Male</td>\n",
       "      <td>46</td>\n",
       "      <td>50289.0</td>\n",
       "      <td>No</td>\n",
       "    </tr>\n",
       "  </tbody>\n",
       "</table>\n",
       "</div>"
      ],
      "text/plain": [
       "   Number    City Gender  Age   Income Illness\n",
       "0       1  Dallas   Male   41  40367.0      No\n",
       "1       2  Dallas   Male   54  45084.0      No\n",
       "2       3  Dallas   Male   42  52483.0      No\n",
       "3       4  Dallas   Male   40  40941.0      No\n",
       "4       5  Dallas   Male   46  50289.0      No"
      ]
     },
     "execution_count": 4,
     "metadata": {},
     "output_type": "execute_result"
    }
   ],
   "source": [
    "df.head()"
   ]
  },
  {
   "cell_type": "code",
   "execution_count": 5,
   "id": "f708ea3b-febf-44d8-b1bf-4f23f27d49ce",
   "metadata": {
    "tags": []
   },
   "outputs": [
    {
     "data": {
      "text/plain": [
       "(150000, 6)"
      ]
     },
     "execution_count": 5,
     "metadata": {},
     "output_type": "execute_result"
    }
   ],
   "source": [
    "df.shape"
   ]
  },
  {
   "cell_type": "code",
   "execution_count": 6,
   "id": "be8fb12f-8c11-45ae-ae4f-5d609bbf0a18",
   "metadata": {
    "tags": []
   },
   "outputs": [],
   "source": [
    "city_cnt = df['City'].value_counts()"
   ]
  },
  {
   "cell_type": "code",
   "execution_count": 7,
   "id": "5fb73d5b-736f-4054-81f4-dd129c2b4c98",
   "metadata": {
    "tags": []
   },
   "outputs": [
    {
     "data": {
      "text/plain": [
       "City\n",
       "New York City      50307\n",
       "Los Angeles        32173\n",
       "Dallas             19707\n",
       "Mountain View      14219\n",
       "Austin             12292\n",
       "Boston              8301\n",
       "Washington D.C.     8120\n",
       "San Diego           4881\n",
       "Name: count, dtype: int64"
      ]
     },
     "execution_count": 7,
     "metadata": {},
     "output_type": "execute_result"
    }
   ],
   "source": [
    "city_cnt"
   ]
  },
  {
   "cell_type": "code",
   "execution_count": 8,
   "id": "3f4bc887-2d5f-4cf1-96df-2467cc7ca510",
   "metadata": {
    "tags": []
   },
   "outputs": [
    {
     "name": "stdout",
     "output_type": "stream",
     "text": [
      "Gender\n",
      "Male      83800\n",
      "Female    66200\n",
      "Name: count, dtype: int64\n"
     ]
    }
   ],
   "source": [
    "gender_cnt = df['Gender'].value_counts()\n",
    "print(gender_cnt)"
   ]
  },
  {
   "cell_type": "code",
   "execution_count": 9,
   "id": "bd2d7dc4-623b-4e1d-be85-31e56e5ab36c",
   "metadata": {
    "tags": []
   },
   "outputs": [
    {
     "name": "stdout",
     "output_type": "stream",
     "text": [
      "City\n",
      "New York City      28135\n",
      "Los Angeles        17888\n",
      "Dallas             11002\n",
      "Mountain View       7943\n",
      "Austin              6907\n",
      "Boston              4586\n",
      "Washington D.C.     4556\n",
      "San Diego           2783\n",
      "Name: count, dtype: int64\n",
      "City\n",
      "New York City      22172\n",
      "Los Angeles        14285\n",
      "Dallas              8705\n",
      "Mountain View       6276\n",
      "Austin              5385\n",
      "Boston              3715\n",
      "Washington D.C.     3564\n",
      "San Diego           2098\n",
      "Name: count, dtype: int64\n"
     ]
    }
   ],
   "source": [
    "city_cnt_male = df[df['Gender']=='Male']['City'].value_counts()\n",
    "city_cnt_female = df[df['Gender']=='Female']['City'].value_counts()\n",
    "print(city_cnt_male)\n",
    "print(city_cnt_female)"
   ]
  },
  {
   "cell_type": "code",
   "execution_count": 10,
   "id": "42a88ec3-891a-4b09-80fd-68dbf76cfad1",
   "metadata": {
    "tags": []
   },
   "outputs": [],
   "source": [
    "xlabel = list(city_cnt_male.index)"
   ]
  },
  {
   "cell_type": "code",
   "execution_count": 11,
   "id": "361f314d-473c-4569-acf5-831f70102b99",
   "metadata": {},
   "outputs": [
    {
     "data": {
      "image/png": "[encoded data removed]",
      "text/plain": [
       "<Figure size 640x480 with 1 Axes>"
      ]
     },
     "metadata": {},
     "output_type": "display_data"
    }
   ],
   "source": [
    "city_cnt_male = df[df['Gender']=='Male']['City'].value_counts()\n",
    "city_cnt_female = df[df['Gender']=='Female']['City'].value_counts()\n",
    "xlabel = list(city_cnt_male.index)\n",
    "fig = plt.figure()\n",
    "X = np.arange(8)\n",
    "plt.bar(X, city_cnt_male, color = 'b', width = 0.25)\n",
    "plt.bar(X+0.25, city_cnt_female, color = 'r', width = 0.25)\n",
    "plt.xticks(X, xlabel, rotation=30)\n",
    "plt.legend(labels=['Male','Female'])\n",
    "plt.title(\"City count of Male and Female\")\n",
    "plt.ylabel(\"Count\")\n",
    "plt.xlabel(\"Cities\")\n",
    "plt.show()"
   ]
  },
  {
   "cell_type": "code",
   "execution_count": 12,
   "id": "f867f090",
   "metadata": {},
   "outputs": [],
   "source": [
    "data = {\n",
    "    'Male': city_cnt_male,\n",
    "    'Female': city_cnt_female\n",
    "    }"
   ]
  },
  {
   "cell_type": "code",
   "execution_count": 13,
   "id": "f4529258",
   "metadata": {},
   "outputs": [
    {
     "data": {
      "text/plain": [
       "{'Male': City\n",
       " New York City      28135\n",
       " Los Angeles        17888\n",
       " Dallas             11002\n",
       " Mountain View       7943\n",
       " Austin              6907\n",
       " Boston              4586\n",
       " Washington D.C.     4556\n",
       " San Diego           2783\n",
       " Name: count, dtype: int64,\n",
       " 'Female': City\n",
       " New York City      22172\n",
       " Los Angeles        14285\n",
       " Dallas              8705\n",
       " Mountain View       6276\n",
       " Austin              5385\n",
       " Boston              3715\n",
       " Washington D.C.     3564\n",
       " San Diego           2098\n",
       " Name: count, dtype: int64}"
      ]
     },
     "execution_count": 13,
     "metadata": {},
     "output_type": "execute_result"
    }
   ],
   "source": [
    "data"
   ]
  },
  {
   "cell_type": "code",
   "execution_count": null,
   "id": "792962e2",
   "metadata": {},
   "outputs": [],
   "source": []
  }
 ],
 "metadata": {
  "kernelspec": {
   "display_name": "Python 3 (ipykernel)",
   "language": "python",
   "name": "python3"
  },
  "language_info": {
   "codemirror_mode": {
    "name": "ipython",
    "version": 3
   },
   "file_extension": ".py",
   "mimetype": "text/x-python",
   "name": "python",
   "nbconvert_exporter": "python",
   "pygments_lexer": "ipython3",
   "version": "3.11.4"
  }
 },
 "nbformat": 4,
 "nbformat_minor": 5
}
