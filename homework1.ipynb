{
 "cells": [
  {
   "cell_type": "markdown",
   "id": "9637d772",
   "metadata": {
    "tags": []
   },
   "source": [
    "## Lab1"
   ]
  },
  {
   "cell_type": "code",
   "execution_count": 1,
   "id": "dfa13630",
   "metadata": {
    "tags": []
   },
   "outputs": [
    {
     "ename": "NameError",
     "evalue": "name 'pd' is not defined",
     "output_type": "error",
     "traceback": [
      "\u001b[0;31m---------------------------------------------------------------------------\u001b[0m",
      "\u001b[0;31mNameError\u001b[0m                                 Traceback (most recent call last)",
      "\u001b[0;32m<ipython-input-1-1af483d93e65>\u001b[0m in \u001b[0;36m<module>\u001b[0;34m\u001b[0m\n\u001b[0;32m----> 1\u001b[0;31m \u001b[0mdf\u001b[0m \u001b[0;34m=\u001b[0m \u001b[0mpd\u001b[0m\u001b[0;34m.\u001b[0m\u001b[0mread_csv\u001b[0m\u001b[0;34m(\u001b[0m\u001b[0;34m'toy_dataset.csv'\u001b[0m\u001b[0;34m)\u001b[0m\u001b[0;34m\u001b[0m\u001b[0;34m\u001b[0m\u001b[0m\n\u001b[0m",
      "\u001b[0;31mNameError\u001b[0m: name 'pd' is not defined"
     ]
    }
   ],
   "source": [
    "df = pd.read_csv('toy_dataset.csv')"
   ]
  },
  {
   "cell_type": "code",
   "execution_count": null,
   "id": "2d3282a8",
   "metadata": {
    "tags": []
   },
   "outputs": [],
   "source": [
    "city_cnt = df['City'].value_counts()\n",
    "gender_cnt = df['Gender'].value_counts()\n",
    "city_cnt_male = df[df['Gender']=='Male']['City'].value_counts()\n",
    "city_cnt_female = df[df['Gender']=='Female']['City'].value_counts()"
   ]
  },
  {
   "cell_type": "code",
   "execution_count": null,
   "id": "ae455f79",
   "metadata": {
    "tags": []
   },
   "outputs": [],
   "source": [
    "xlabel = list(city_cnt_male.index)\n",
    "\n",
    "fig = plt.figure()\n",
    "X = np.arange(8)\n",
    "plt.bar(X, city_cnt_male, color = 'b', width = 0.25)\n",
    "plt.bar(X+0.25, city_cnt_female, color = 'r', width = 0.25)\n",
    "plt.xticks(X, xlabel, rotation=30)\n",
    "plt.legend(labels=['Male','Female'])\n",
    "plt.title(\"City count of Male and Female\")\n",
    "plt.ylabel(\"Count\")\n",
    "plt.xlabel(\"Cities\")\n",
    "plt.show()"
   ]
  },
  {
   "cell_type": "markdown",
   "id": "ced4ddbf",
   "metadata": {},
   "source": [
    "## Homework 1"
   ]
  },
  {
   "cell_type": "code",
   "execution_count": 2,
   "id": "f74a94dc",
   "metadata": {},
   "outputs": [],
   "source": [
    "import pandas as pd\n",
    "import numpy as np\n",
    "import matplotlib.pyplot as plt"
   ]
  },
  {
   "cell_type": "code",
   "execution_count": 3,
   "id": "b7905998",
   "metadata": {
    "tags": []
   },
   "outputs": [],
   "source": [
    "fishdf = pd.read_csv(\"Fish.csv\")"
   ]
  },
  {
   "cell_type": "code",
   "execution_count": 4,
   "id": "1d3d14d9",
   "metadata": {
    "tags": []
   },
   "outputs": [
    {
     "data": {
      "text/html": [
       "<div>\n",
       "<style scoped>\n",
       "    .dataframe tbody tr th:only-of-type {\n",
       "        vertical-align: middle;\n",
       "    }\n",
       "\n",
       "    .dataframe tbody tr th {\n",
       "        vertical-align: top;\n",
       "    }\n",
       "\n",
       "    .dataframe thead th {\n",
       "        text-align: right;\n",
       "    }\n",
       "</style>\n",
       "<table border=\"1\" class=\"dataframe\">\n",
       "  <thead>\n",
       "    <tr style=\"text-align: right;\">\n",
       "      <th></th>\n",
       "      <th>Species</th>\n",
       "      <th>Weight</th>\n",
       "      <th>Length1</th>\n",
       "      <th>Length2</th>\n",
       "      <th>Length3</th>\n",
       "      <th>Height</th>\n",
       "      <th>Width</th>\n",
       "    </tr>\n",
       "  </thead>\n",
       "  <tbody>\n",
       "    <tr>\n",
       "      <th>0</th>\n",
       "      <td>Bream</td>\n",
       "      <td>242.0</td>\n",
       "      <td>23.2</td>\n",
       "      <td>25.4</td>\n",
       "      <td>30.0</td>\n",
       "      <td>11.5200</td>\n",
       "      <td>4.0200</td>\n",
       "    </tr>\n",
       "    <tr>\n",
       "      <th>1</th>\n",
       "      <td>Bream</td>\n",
       "      <td>290.0</td>\n",
       "      <td>24.0</td>\n",
       "      <td>26.3</td>\n",
       "      <td>31.2</td>\n",
       "      <td>12.4800</td>\n",
       "      <td>4.3056</td>\n",
       "    </tr>\n",
       "    <tr>\n",
       "      <th>2</th>\n",
       "      <td>Bream</td>\n",
       "      <td>340.0</td>\n",
       "      <td>23.9</td>\n",
       "      <td>26.5</td>\n",
       "      <td>31.1</td>\n",
       "      <td>12.3778</td>\n",
       "      <td>4.6961</td>\n",
       "    </tr>\n",
       "    <tr>\n",
       "      <th>3</th>\n",
       "      <td>Bream</td>\n",
       "      <td>363.0</td>\n",
       "      <td>26.3</td>\n",
       "      <td>29.0</td>\n",
       "      <td>33.5</td>\n",
       "      <td>12.7300</td>\n",
       "      <td>4.4555</td>\n",
       "    </tr>\n",
       "    <tr>\n",
       "      <th>4</th>\n",
       "      <td>Bream</td>\n",
       "      <td>430.0</td>\n",
       "      <td>26.5</td>\n",
       "      <td>29.0</td>\n",
       "      <td>34.0</td>\n",
       "      <td>12.4440</td>\n",
       "      <td>5.1340</td>\n",
       "    </tr>\n",
       "  </tbody>\n",
       "</table>\n",
       "</div>"
      ],
      "text/plain": [
       "  Species  Weight  Length1  Length2  Length3   Height   Width\n",
       "0   Bream   242.0     23.2     25.4     30.0  11.5200  4.0200\n",
       "1   Bream   290.0     24.0     26.3     31.2  12.4800  4.3056\n",
       "2   Bream   340.0     23.9     26.5     31.1  12.3778  4.6961\n",
       "3   Bream   363.0     26.3     29.0     33.5  12.7300  4.4555\n",
       "4   Bream   430.0     26.5     29.0     34.0  12.4440  5.1340"
      ]
     },
     "execution_count": 4,
     "metadata": {},
     "output_type": "execute_result"
    }
   ],
   "source": [
    "fishdf.head()"
   ]
  },
  {
   "cell_type": "code",
   "execution_count": 5,
   "id": "f32ead01",
   "metadata": {
    "tags": []
   },
   "outputs": [
    {
     "data": {
      "text/plain": [
       "<bound method DataFrame.info of     Species  Weight  Length1  Length2  Length3   Height   Width\n",
       "0     Bream   242.0     23.2     25.4     30.0  11.5200  4.0200\n",
       "1     Bream   290.0     24.0     26.3     31.2  12.4800  4.3056\n",
       "2     Bream   340.0     23.9     26.5     31.1  12.3778  4.6961\n",
       "3     Bream   363.0     26.3     29.0     33.5  12.7300  4.4555\n",
       "4     Bream   430.0     26.5     29.0     34.0  12.4440  5.1340\n",
       "..      ...     ...      ...      ...      ...      ...     ...\n",
       "154   Smelt    12.2     11.5     12.2     13.4   2.0904  1.3936\n",
       "155   Smelt    13.4     11.7     12.4     13.5   2.4300  1.2690\n",
       "156   Smelt    12.2     12.1     13.0     13.8   2.2770  1.2558\n",
       "157   Smelt    19.7     13.2     14.3     15.2   2.8728  2.0672\n",
       "158   Smelt    19.9     13.8     15.0     16.2   2.9322  1.8792\n",
       "\n",
       "[159 rows x 7 columns]>"
      ]
     },
     "execution_count": 5,
     "metadata": {},
     "output_type": "execute_result"
    }
   ],
   "source": [
    "fishdf.info"
   ]
  },
  {
   "cell_type": "code",
   "execution_count": 6,
   "id": "a76c09db",
   "metadata": {
    "tags": []
   },
   "outputs": [
    {
     "data": {
      "text/plain": [
       "Perch        56\n",
       "Bream        35\n",
       "Roach        20\n",
       "Pike         17\n",
       "Smelt        14\n",
       "Parkki       11\n",
       "Whitefish     6\n",
       "Name: Species, dtype: int64"
      ]
     },
     "execution_count": 6,
     "metadata": {},
     "output_type": "execute_result"
    }
   ],
   "source": [
    "fishdf[\"Species\"].value_counts()"
   ]
  },
  {
   "cell_type": "code",
   "execution_count": 7,
   "id": "e4aa87e5",
   "metadata": {
    "tags": []
   },
   "outputs": [
    {
     "data": {
      "text/plain": [
       "Index(['Perch', 'Bream', 'Roach', 'Pike', 'Smelt', 'Parkki', 'Whitefish'], dtype='object')"
      ]
     },
     "execution_count": 7,
     "metadata": {},
     "output_type": "execute_result"
    }
   ],
   "source": [
    "fishdf[\"Species\"].value_counts().index"
   ]
  },
  {
   "cell_type": "code",
   "execution_count": 8,
   "id": "b0278e42",
   "metadata": {
    "tags": []
   },
   "outputs": [
    {
     "data": {
      "text/plain": [
       "['Perch', 'Bream', 'Roach', 'Pike', 'Smelt', 'Parkki', 'Whitefish']"
      ]
     },
     "execution_count": 8,
     "metadata": {},
     "output_type": "execute_result"
    }
   ],
   "source": [
    "fishIndex = list(fishdf[\"Species\"].value_counts().index)\n",
    "fishIndex"
   ]
  },
  {
   "cell_type": "markdown",
   "id": "eee17360",
   "metadata": {
    "tags": []
   },
   "source": [
    "##### 1.Bar Graph"
   ]
  },
  {
   "cell_type": "code",
   "execution_count": 9,
   "id": "e09fcd34",
   "metadata": {
    "tags": []
   },
   "outputs": [
    {
     "data": {
      "image/png": "[encoded data removed]",
      "text/plain": [
       "<Figure size 432x288 with 1 Axes>"
      ]
     },
     "metadata": {
      "needs_background": "light"
     },
     "output_type": "display_data"
    }
   ],
   "source": [
    "# Bar Graph\n",
    "\n",
    "fig1 = plt.figure()\n",
    "\n",
    "X = np.arange(len(fishIndex))\n",
    "plt.bar(X, fishdf[\"Species\"].value_counts(), color = 'b', width = 0.25)\n",
    "plt.xticks(X, fishIndex, rotation=30)\n",
    "plt.title(\"Number count of each species\")\n",
    "plt.ylabel(\"Count\")\n",
    "plt.xlabel(\"Species\")\n",
    "plt.show()"
   ]
  },
  {
   "cell_type": "code",
   "execution_count": 10,
   "id": "7cf1ca3f",
   "metadata": {
    "tags": []
   },
   "outputs": [],
   "source": [
    "# fishdf_sorted = fishdf[fishdf[\"Weight\"]].sort_values(ascending=True)\n",
    "fishdf_sorted = fishdf.sort_values(by=\"Weight\")"
   ]
  },
  {
   "cell_type": "markdown",
   "id": "62863914",
   "metadata": {},
   "source": [
    "##### 2. Line Graph"
   ]
  },
  {
   "cell_type": "code",
   "execution_count": 11,
   "id": "1aa03ad1",
   "metadata": {
    "tags": []
   },
   "outputs": [
    {
     "data": {
      "image/png": "[encoded data removed]",
      "text/plain": [
       "<Figure size 432x288 with 1 Axes>"
      ]
     },
     "metadata": {
      "needs_background": "light"
     },
     "output_type": "display_data"
    }
   ],
   "source": [
    "# Line Graph\n",
    "fig2 = plt.figure()\n",
    "\n",
    "Bream_sorted = fishdf_sorted[fishdf_sorted[\"Species\"]==\"Bream\"]\n",
    "# Bream_sorted\n",
    "\n",
    "plt.plot(Bream_sorted.iloc[:,1:2], Bream_sorted.iloc[:,2:5])\n",
    "plt.legend(labels=[\"Length1\",\"Length2\",\"Length3\"])\n",
    "plt.title(\"Line graph of Weight by Length 1, 2, 3 of Bream species\")\n",
    "plt.xlabel(\"Weight\")\n",
    "plt.ylabel(\"Height\")\n",
    "plt.show() "
   ]
  },
  {
   "cell_type": "code",
   "execution_count": 12,
   "id": "46cb08f8",
   "metadata": {},
   "outputs": [
    {
     "data": {
      "text/html": [
       "<div>\n",
       "<style scoped>\n",
       "    .dataframe tbody tr th:only-of-type {\n",
       "        vertical-align: middle;\n",
       "    }\n",
       "\n",
       "    .dataframe tbody tr th {\n",
       "        vertical-align: top;\n",
       "    }\n",
       "\n",
       "    .dataframe thead th {\n",
       "        text-align: right;\n",
       "    }\n",
       "</style>\n",
       "<table border=\"1\" class=\"dataframe\">\n",
       "  <thead>\n",
       "    <tr style=\"text-align: right;\">\n",
       "      <th></th>\n",
       "      <th>Species</th>\n",
       "      <th>Weight</th>\n",
       "      <th>Length1</th>\n",
       "      <th>Length2</th>\n",
       "      <th>Length3</th>\n",
       "      <th>Height</th>\n",
       "      <th>Width</th>\n",
       "    </tr>\n",
       "  </thead>\n",
       "  <tbody>\n",
       "    <tr>\n",
       "      <th>0</th>\n",
       "      <td>Bream</td>\n",
       "      <td>242.0</td>\n",
       "      <td>23.2</td>\n",
       "      <td>25.4</td>\n",
       "      <td>30.0</td>\n",
       "      <td>11.5200</td>\n",
       "      <td>4.0200</td>\n",
       "    </tr>\n",
       "    <tr>\n",
       "      <th>1</th>\n",
       "      <td>Bream</td>\n",
       "      <td>290.0</td>\n",
       "      <td>24.0</td>\n",
       "      <td>26.3</td>\n",
       "      <td>31.2</td>\n",
       "      <td>12.4800</td>\n",
       "      <td>4.3056</td>\n",
       "    </tr>\n",
       "    <tr>\n",
       "      <th>2</th>\n",
       "      <td>Bream</td>\n",
       "      <td>340.0</td>\n",
       "      <td>23.9</td>\n",
       "      <td>26.5</td>\n",
       "      <td>31.1</td>\n",
       "      <td>12.3778</td>\n",
       "      <td>4.6961</td>\n",
       "    </tr>\n",
       "    <tr>\n",
       "      <th>13</th>\n",
       "      <td>Bream</td>\n",
       "      <td>340.0</td>\n",
       "      <td>29.5</td>\n",
       "      <td>32.0</td>\n",
       "      <td>37.3</td>\n",
       "      <td>13.9129</td>\n",
       "      <td>5.0728</td>\n",
       "    </tr>\n",
       "    <tr>\n",
       "      <th>3</th>\n",
       "      <td>Bream</td>\n",
       "      <td>363.0</td>\n",
       "      <td>26.3</td>\n",
       "      <td>29.0</td>\n",
       "      <td>33.5</td>\n",
       "      <td>12.7300</td>\n",
       "      <td>4.4555</td>\n",
       "    </tr>\n",
       "    <tr>\n",
       "      <th>7</th>\n",
       "      <td>Bream</td>\n",
       "      <td>390.0</td>\n",
       "      <td>27.6</td>\n",
       "      <td>30.0</td>\n",
       "      <td>35.0</td>\n",
       "      <td>12.6700</td>\n",
       "      <td>4.6900</td>\n",
       "    </tr>\n",
       "    <tr>\n",
       "      <th>4</th>\n",
       "      <td>Bream</td>\n",
       "      <td>430.0</td>\n",
       "      <td>26.5</td>\n",
       "      <td>29.0</td>\n",
       "      <td>34.0</td>\n",
       "      <td>12.4440</td>\n",
       "      <td>5.1340</td>\n",
       "    </tr>\n",
       "    <tr>\n",
       "      <th>5</th>\n",
       "      <td>Bream</td>\n",
       "      <td>450.0</td>\n",
       "      <td>26.8</td>\n",
       "      <td>29.7</td>\n",
       "      <td>34.7</td>\n",
       "      <td>13.6024</td>\n",
       "      <td>4.9274</td>\n",
       "    </tr>\n",
       "    <tr>\n",
       "      <th>8</th>\n",
       "      <td>Bream</td>\n",
       "      <td>450.0</td>\n",
       "      <td>27.6</td>\n",
       "      <td>30.0</td>\n",
       "      <td>35.1</td>\n",
       "      <td>14.0049</td>\n",
       "      <td>4.8438</td>\n",
       "    </tr>\n",
       "    <tr>\n",
       "      <th>10</th>\n",
       "      <td>Bream</td>\n",
       "      <td>475.0</td>\n",
       "      <td>28.4</td>\n",
       "      <td>31.0</td>\n",
       "      <td>36.2</td>\n",
       "      <td>14.2628</td>\n",
       "      <td>5.1042</td>\n",
       "    </tr>\n",
       "    <tr>\n",
       "      <th>9</th>\n",
       "      <td>Bream</td>\n",
       "      <td>500.0</td>\n",
       "      <td>28.5</td>\n",
       "      <td>30.7</td>\n",
       "      <td>36.2</td>\n",
       "      <td>14.2266</td>\n",
       "      <td>4.9594</td>\n",
       "    </tr>\n",
       "    <tr>\n",
       "      <th>12</th>\n",
       "      <td>Bream</td>\n",
       "      <td>500.0</td>\n",
       "      <td>29.1</td>\n",
       "      <td>31.5</td>\n",
       "      <td>36.4</td>\n",
       "      <td>13.7592</td>\n",
       "      <td>4.3680</td>\n",
       "    </tr>\n",
       "    <tr>\n",
       "      <th>11</th>\n",
       "      <td>Bream</td>\n",
       "      <td>500.0</td>\n",
       "      <td>28.7</td>\n",
       "      <td>31.0</td>\n",
       "      <td>36.2</td>\n",
       "      <td>14.3714</td>\n",
       "      <td>4.8146</td>\n",
       "    </tr>\n",
       "    <tr>\n",
       "      <th>6</th>\n",
       "      <td>Bream</td>\n",
       "      <td>500.0</td>\n",
       "      <td>26.8</td>\n",
       "      <td>29.7</td>\n",
       "      <td>34.5</td>\n",
       "      <td>14.1795</td>\n",
       "      <td>5.2785</td>\n",
       "    </tr>\n",
       "    <tr>\n",
       "      <th>20</th>\n",
       "      <td>Bream</td>\n",
       "      <td>575.0</td>\n",
       "      <td>31.3</td>\n",
       "      <td>34.0</td>\n",
       "      <td>39.5</td>\n",
       "      <td>15.1285</td>\n",
       "      <td>5.5695</td>\n",
       "    </tr>\n",
       "    <tr>\n",
       "      <th>14</th>\n",
       "      <td>Bream</td>\n",
       "      <td>600.0</td>\n",
       "      <td>29.4</td>\n",
       "      <td>32.0</td>\n",
       "      <td>37.2</td>\n",
       "      <td>14.9544</td>\n",
       "      <td>5.1708</td>\n",
       "    </tr>\n",
       "    <tr>\n",
       "      <th>15</th>\n",
       "      <td>Bream</td>\n",
       "      <td>600.0</td>\n",
       "      <td>29.4</td>\n",
       "      <td>32.0</td>\n",
       "      <td>37.2</td>\n",
       "      <td>15.4380</td>\n",
       "      <td>5.5800</td>\n",
       "    </tr>\n",
       "    <tr>\n",
       "      <th>18</th>\n",
       "      <td>Bream</td>\n",
       "      <td>610.0</td>\n",
       "      <td>30.9</td>\n",
       "      <td>33.5</td>\n",
       "      <td>38.6</td>\n",
       "      <td>15.6330</td>\n",
       "      <td>5.1338</td>\n",
       "    </tr>\n",
       "    <tr>\n",
       "      <th>22</th>\n",
       "      <td>Bream</td>\n",
       "      <td>620.0</td>\n",
       "      <td>31.5</td>\n",
       "      <td>34.5</td>\n",
       "      <td>39.7</td>\n",
       "      <td>15.5227</td>\n",
       "      <td>5.2801</td>\n",
       "    </tr>\n",
       "    <tr>\n",
       "      <th>19</th>\n",
       "      <td>Bream</td>\n",
       "      <td>650.0</td>\n",
       "      <td>31.0</td>\n",
       "      <td>33.5</td>\n",
       "      <td>38.7</td>\n",
       "      <td>14.4738</td>\n",
       "      <td>5.7276</td>\n",
       "    </tr>\n",
       "    <tr>\n",
       "      <th>23</th>\n",
       "      <td>Bream</td>\n",
       "      <td>680.0</td>\n",
       "      <td>31.8</td>\n",
       "      <td>35.0</td>\n",
       "      <td>40.6</td>\n",
       "      <td>15.4686</td>\n",
       "      <td>6.1306</td>\n",
       "    </tr>\n",
       "    <tr>\n",
       "      <th>21</th>\n",
       "      <td>Bream</td>\n",
       "      <td>685.0</td>\n",
       "      <td>31.4</td>\n",
       "      <td>34.0</td>\n",
       "      <td>39.2</td>\n",
       "      <td>15.9936</td>\n",
       "      <td>5.3704</td>\n",
       "    </tr>\n",
       "    <tr>\n",
       "      <th>17</th>\n",
       "      <td>Bream</td>\n",
       "      <td>700.0</td>\n",
       "      <td>30.4</td>\n",
       "      <td>33.0</td>\n",
       "      <td>38.5</td>\n",
       "      <td>14.9380</td>\n",
       "      <td>5.1975</td>\n",
       "    </tr>\n",
       "    <tr>\n",
       "      <th>16</th>\n",
       "      <td>Bream</td>\n",
       "      <td>700.0</td>\n",
       "      <td>30.4</td>\n",
       "      <td>33.0</td>\n",
       "      <td>38.3</td>\n",
       "      <td>14.8604</td>\n",
       "      <td>5.2854</td>\n",
       "    </tr>\n",
       "    <tr>\n",
       "      <th>24</th>\n",
       "      <td>Bream</td>\n",
       "      <td>700.0</td>\n",
       "      <td>31.9</td>\n",
       "      <td>35.0</td>\n",
       "      <td>40.5</td>\n",
       "      <td>16.2405</td>\n",
       "      <td>5.5890</td>\n",
       "    </tr>\n",
       "    <tr>\n",
       "      <th>27</th>\n",
       "      <td>Bream</td>\n",
       "      <td>714.0</td>\n",
       "      <td>32.7</td>\n",
       "      <td>36.0</td>\n",
       "      <td>41.5</td>\n",
       "      <td>16.5170</td>\n",
       "      <td>5.8515</td>\n",
       "    </tr>\n",
       "    <tr>\n",
       "      <th>26</th>\n",
       "      <td>Bream</td>\n",
       "      <td>720.0</td>\n",
       "      <td>32.0</td>\n",
       "      <td>35.0</td>\n",
       "      <td>40.6</td>\n",
       "      <td>16.3618</td>\n",
       "      <td>6.0900</td>\n",
       "    </tr>\n",
       "    <tr>\n",
       "      <th>25</th>\n",
       "      <td>Bream</td>\n",
       "      <td>725.0</td>\n",
       "      <td>31.8</td>\n",
       "      <td>35.0</td>\n",
       "      <td>40.9</td>\n",
       "      <td>16.3600</td>\n",
       "      <td>6.0532</td>\n",
       "    </tr>\n",
       "    <tr>\n",
       "      <th>28</th>\n",
       "      <td>Bream</td>\n",
       "      <td>850.0</td>\n",
       "      <td>32.8</td>\n",
       "      <td>36.0</td>\n",
       "      <td>41.6</td>\n",
       "      <td>16.8896</td>\n",
       "      <td>6.1984</td>\n",
       "    </tr>\n",
       "    <tr>\n",
       "      <th>30</th>\n",
       "      <td>Bream</td>\n",
       "      <td>920.0</td>\n",
       "      <td>35.0</td>\n",
       "      <td>38.5</td>\n",
       "      <td>44.1</td>\n",
       "      <td>18.0369</td>\n",
       "      <td>6.3063</td>\n",
       "    </tr>\n",
       "    <tr>\n",
       "      <th>32</th>\n",
       "      <td>Bream</td>\n",
       "      <td>925.0</td>\n",
       "      <td>36.2</td>\n",
       "      <td>39.5</td>\n",
       "      <td>45.3</td>\n",
       "      <td>18.7542</td>\n",
       "      <td>6.7497</td>\n",
       "    </tr>\n",
       "    <tr>\n",
       "      <th>34</th>\n",
       "      <td>Bream</td>\n",
       "      <td>950.0</td>\n",
       "      <td>38.0</td>\n",
       "      <td>41.0</td>\n",
       "      <td>46.5</td>\n",
       "      <td>17.6235</td>\n",
       "      <td>6.3705</td>\n",
       "    </tr>\n",
       "    <tr>\n",
       "      <th>31</th>\n",
       "      <td>Bream</td>\n",
       "      <td>955.0</td>\n",
       "      <td>35.0</td>\n",
       "      <td>38.5</td>\n",
       "      <td>44.0</td>\n",
       "      <td>18.0840</td>\n",
       "      <td>6.2920</td>\n",
       "    </tr>\n",
       "    <tr>\n",
       "      <th>33</th>\n",
       "      <td>Bream</td>\n",
       "      <td>975.0</td>\n",
       "      <td>37.4</td>\n",
       "      <td>41.0</td>\n",
       "      <td>45.9</td>\n",
       "      <td>18.6354</td>\n",
       "      <td>6.7473</td>\n",
       "    </tr>\n",
       "    <tr>\n",
       "      <th>29</th>\n",
       "      <td>Bream</td>\n",
       "      <td>1000.0</td>\n",
       "      <td>33.5</td>\n",
       "      <td>37.0</td>\n",
       "      <td>42.6</td>\n",
       "      <td>18.9570</td>\n",
       "      <td>6.6030</td>\n",
       "    </tr>\n",
       "  </tbody>\n",
       "</table>\n",
       "</div>"
      ],
      "text/plain": [
       "   Species  Weight  Length1  Length2  Length3   Height   Width\n",
       "0    Bream   242.0     23.2     25.4     30.0  11.5200  4.0200\n",
       "1    Bream   290.0     24.0     26.3     31.2  12.4800  4.3056\n",
       "2    Bream   340.0     23.9     26.5     31.1  12.3778  4.6961\n",
       "13   Bream   340.0     29.5     32.0     37.3  13.9129  5.0728\n",
       "3    Bream   363.0     26.3     29.0     33.5  12.7300  4.4555\n",
       "7    Bream   390.0     27.6     30.0     35.0  12.6700  4.6900\n",
       "4    Bream   430.0     26.5     29.0     34.0  12.4440  5.1340\n",
       "5    Bream   450.0     26.8     29.7     34.7  13.6024  4.9274\n",
       "8    Bream   450.0     27.6     30.0     35.1  14.0049  4.8438\n",
       "10   Bream   475.0     28.4     31.0     36.2  14.2628  5.1042\n",
       "9    Bream   500.0     28.5     30.7     36.2  14.2266  4.9594\n",
       "12   Bream   500.0     29.1     31.5     36.4  13.7592  4.3680\n",
       "11   Bream   500.0     28.7     31.0     36.2  14.3714  4.8146\n",
       "6    Bream   500.0     26.8     29.7     34.5  14.1795  5.2785\n",
       "20   Bream   575.0     31.3     34.0     39.5  15.1285  5.5695\n",
       "14   Bream   600.0     29.4     32.0     37.2  14.9544  5.1708\n",
       "15   Bream   600.0     29.4     32.0     37.2  15.4380  5.5800\n",
       "18   Bream   610.0     30.9     33.5     38.6  15.6330  5.1338\n",
       "22   Bream   620.0     31.5     34.5     39.7  15.5227  5.2801\n",
       "19   Bream   650.0     31.0     33.5     38.7  14.4738  5.7276\n",
       "23   Bream   680.0     31.8     35.0     40.6  15.4686  6.1306\n",
       "21   Bream   685.0     31.4     34.0     39.2  15.9936  5.3704\n",
       "17   Bream   700.0     30.4     33.0     38.5  14.9380  5.1975\n",
       "16   Bream   700.0     30.4     33.0     38.3  14.8604  5.2854\n",
       "24   Bream   700.0     31.9     35.0     40.5  16.2405  5.5890\n",
       "27   Bream   714.0     32.7     36.0     41.5  16.5170  5.8515\n",
       "26   Bream   720.0     32.0     35.0     40.6  16.3618  6.0900\n",
       "25   Bream   725.0     31.8     35.0     40.9  16.3600  6.0532\n",
       "28   Bream   850.0     32.8     36.0     41.6  16.8896  6.1984\n",
       "30   Bream   920.0     35.0     38.5     44.1  18.0369  6.3063\n",
       "32   Bream   925.0     36.2     39.5     45.3  18.7542  6.7497\n",
       "34   Bream   950.0     38.0     41.0     46.5  17.6235  6.3705\n",
       "31   Bream   955.0     35.0     38.5     44.0  18.0840  6.2920\n",
       "33   Bream   975.0     37.4     41.0     45.9  18.6354  6.7473\n",
       "29   Bream  1000.0     33.5     37.0     42.6  18.9570  6.6030"
      ]
     },
     "execution_count": 12,
     "metadata": {},
     "output_type": "execute_result"
    }
   ],
   "source": [
    "Bream_sorted"
   ]
  },
  {
   "cell_type": "markdown",
   "id": "2b311f8e",
   "metadata": {},
   "source": [
    "##### 3. Scatter Graph"
   ]
  },
  {
   "cell_type": "code",
   "execution_count": null,
   "id": "bf956b29",
   "metadata": {
    "tags": []
   },
   "outputs": [],
   "source": [
    "# Scatter Grpah\n",
    "\n",
    "fig3 = plt.figure()\n",
    "\n",
    "plt.scatter(fishdf[fishdf['Species']==\"Perch\"][\"Weight\"], fishdf[fishdf['Species']==\"Perch\"][\"Height\"])\n",
    "plt.title(\"Correlation between weight and height of Perch\")\n",
    "plt.xlabel(\"Weight\")\n",
    "plt.ylabel(\"Height\")\n",
    "plt.show()"
   ]
  },
  {
   "cell_type": "code",
   "execution_count": null,
   "id": "41e31b25",
   "metadata": {
    "tags": []
   },
   "outputs": [],
   "source": [
    "fishdf[\"Species\"].value_counts()"
   ]
  },
  {
   "cell_type": "code",
   "execution_count": null,
   "id": "656f07d6",
   "metadata": {
    "tags": []
   },
   "outputs": [],
   "source": [
    "Perch_weight = fishdf[fishdf[\"Species\"]==\"Perch\"][\"Weight\"]\n",
    "Bream_weight = fishdf[fishdf[\"Species\"]==\"Bream\"][\"Weight\"]\n",
    "Roach_weight = fishdf[fishdf[\"Species\"]==\"Roach\"][\"Weight\"]\n",
    "Pike_weight = fishdf[fishdf[\"Species\"]==\"Pike\"][\"Weight\"]\n",
    "Smelt_weight = fishdf[fishdf[\"Species\"]==\"Smelt\"][\"Weight\"]\n",
    "Parkki_weight = fishdf[fishdf[\"Species\"]==\"Parkki\"][\"Weight\"]\n",
    "Whitefish_weight = fishdf[fishdf[\"Species\"]==\"Whitefish\"][\"Weight\"]\n"
   ]
  },
  {
   "cell_type": "code",
   "execution_count": null,
   "id": "01058e09",
   "metadata": {
    "tags": []
   },
   "outputs": [],
   "source": [
    "species_data = [Perch_weight, Bream_weight, Roach_weight, Pike_weight, Smelt_weight, Parkki_weight, Whitefish_weight]"
   ]
  },
  {
   "cell_type": "markdown",
   "id": "b96d2bf6",
   "metadata": {},
   "source": [
    "##### 4. Box Plot"
   ]
  },
  {
   "cell_type": "code",
   "execution_count": null,
   "id": "a6b4eb90",
   "metadata": {
    "tags": []
   },
   "outputs": [],
   "source": [
    "# Box plot\n",
    "\n",
    "fig4 = plt.figure()\n",
    "X1 = np.arange(1,8)\n",
    "plt.boxplot(species_data)\n",
    "plt.xticks(X1, fishIndex, rotation=30)\n",
    "plt.title(\"Summary of weight of each species\")\n",
    "plt.xlabel(\"Species\")\n",
    "plt.ylabel(\"Weight\")\n",
    "plt.show()"
   ]
  },
  {
   "cell_type": "markdown",
   "id": "fd0f3adb",
   "metadata": {},
   "source": [
    "##### 5. Pie Chart"
   ]
  },
  {
   "cell_type": "code",
   "execution_count": null,
   "id": "f376c519",
   "metadata": {
    "tags": []
   },
   "outputs": [],
   "source": [
    "# Pie chart\n",
    "\n",
    "cnt = []\n",
    "for i in fishdf.Species.value_counts():\n",
    "    cnt.append(i)\n",
    "\n",
    "\n",
    "plt.pie(cnt, labels=fishIndex, autopct='%1.1f%%')\n",
    "plt.title(\"Percentage of each species in Fish.csv file\")\n",
    "plt.show()"
   ]
  }
 ],
 "metadata": {
  "kernelspec": {
   "display_name": "Python 3",
   "language": "python",
   "name": "python3"
  },
  "language_info": {
   "codemirror_mode": {
    "name": "ipython",
    "version": 3
   },
   "file_extension": ".py",
   "mimetype": "text/x-python",
   "name": "python",
   "nbconvert_exporter": "python",
   "pygments_lexer": "ipython3",
   "version": "3.11.4"
  },
  "toc": {
   "base_numbering": 1,
   "nav_menu": {},
   "number_sections": true,
   "sideBar": true,
   "skip_h1_title": false,
   "title_cell": "Table of Contents",
   "title_sidebar": "Contents",
   "toc_cell": false,
   "toc_position": {},
   "toc_section_display": true,
   "toc_window_display": false
  }
 },
 "nbformat": 4,
 "nbformat_minor": 5
}
